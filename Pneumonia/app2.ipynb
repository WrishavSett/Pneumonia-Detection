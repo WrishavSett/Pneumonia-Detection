{
 "cells": [
  {
   "cell_type": "code",
   "execution_count": 2,
   "id": "9acf0bd9",
   "metadata": {},
   "outputs": [
    {
     "name": "stdout",
     "output_type": "stream",
     "text": [
      " * Serving Flask app '__main__'\n",
      " * Debug mode: off\n"
     ]
    },
    {
     "name": "stderr",
     "output_type": "stream",
     "text": [
      "WARNING: This is a development server. Do not use it in a production deployment. Use a production WSGI server instead.\n",
      " * Running on http://127.0.0.1:5000\n",
      "Press CTRL+C to quit\n",
      "127.0.0.1 - - [17/Nov/2023 19:58:26] \"GET / HTTP/1.1\" 200 -\n"
     ]
    },
    {
     "name": "stdout",
     "output_type": "stream",
     "text": [
      "1/1 [==============================] - 1s 700ms/step\n"
     ]
    },
    {
     "name": "stderr",
     "output_type": "stream",
     "text": [
      "127.0.0.1 - - [17/Nov/2023 19:58:38] \"POST /upload HTTP/1.1\" 200 -\n",
      "127.0.0.1 - - [17/Nov/2023 19:58:40] \"GET / HTTP/1.1\" 200 -\n"
     ]
    },
    {
     "name": "stdout",
     "output_type": "stream",
     "text": [
      "1/1 [==============================] - 0s 130ms/step\n"
     ]
    },
    {
     "name": "stderr",
     "output_type": "stream",
     "text": [
      "127.0.0.1 - - [17/Nov/2023 19:58:47] \"POST /upload HTTP/1.1\" 200 -\n",
      "127.0.0.1 - - [17/Nov/2023 19:58:50] \"GET / HTTP/1.1\" 200 -\n"
     ]
    },
    {
     "name": "stdout",
     "output_type": "stream",
     "text": [
      "1/1 [==============================] - 0s 123ms/step\n"
     ]
    },
    {
     "name": "stderr",
     "output_type": "stream",
     "text": [
      "127.0.0.1 - - [17/Nov/2023 19:58:59] \"POST /upload HTTP/1.1\" 200 -\n"
     ]
    }
   ],
   "source": [
    "from flask import Flask, request, send_file, jsonify,render_template\n",
    "import tkinter as tk\n",
    "from PIL import Image,ImageTk\n",
    "import os\n",
    "from keras.models import load_model\n",
    "import cv2\n",
    "import numpy as np\n",
    "\n",
    "\n",
    "app = Flask(__name__)\n",
    "\n",
    "# Load the trained model\n",
    "model = load_model('pneumonia_model.h5')\n",
    "\n",
    "@app.route('/')\n",
    "def index():\n",
    "    return render_template('index.html')\n",
    "\n",
    "\n",
    "@app.route('/upload', methods=['POST'])\n",
    "def upload():\n",
    "    if 'image' not in request.files:\n",
    "        return 'No image file uploaded'\n",
    "\n",
    "    image_file = request.files['image']\n",
    "    if image_file.filename == '':\n",
    "        return 'No selected image file'\n",
    "\n",
    "    # Process and save the uploaded image\n",
    "    # e.g., save to a specific folder, write to a file, etc.\n",
    "    image_path = 'uploaded_image.jpg'\n",
    "    image_file.save(image_path)\n",
    "\n",
    "    # Get the URL of the uploaded image\n",
    "    image_url = request.host_url + 'image/' + image_path\n",
    "\n",
    "\n",
    "# Load and preprocess the image\n",
    "\n",
    "    img = cv2.imread(image_path)\n",
    "    img = cv2.resize(img, (220, 220), interpolation=cv2.INTER_AREA)\n",
    "    img = img / 255.0  # Normalize the image\n",
    "    img = np.expand_dims(img, axis=0)  # Add batch dimension\n",
    "\n",
    "    prediction = model.predict(img)\n",
    "    prediction= prediction[0, 0]  # The prediction is a probability\n",
    "\n",
    "# interpret the prediction\n",
    "    if prediction > 0.5:\n",
    "        return render_template('Sad.html')\n",
    "    else:\n",
    "        return render_template('Happy.html')\n",
    "\n",
    "\n",
    "\n",
    "if __name__ == '__main__':\n",
    "    app.run()"
   ]
  },
  {
   "cell_type": "code",
   "execution_count": null,
   "id": "43eb8643",
   "metadata": {},
   "outputs": [],
   "source": []
  }
 ],
 "metadata": {
  "kernelspec": {
   "display_name": "Python 3 (ipykernel)",
   "language": "python",
   "name": "python3"
  },
  "language_info": {
   "codemirror_mode": {
    "name": "ipython",
    "version": 3
   },
   "file_extension": ".py",
   "mimetype": "text/x-python",
   "name": "python",
   "nbconvert_exporter": "python",
   "pygments_lexer": "ipython3",
   "version": "3.11.2"
  }
 },
 "nbformat": 4,
 "nbformat_minor": 5
}
