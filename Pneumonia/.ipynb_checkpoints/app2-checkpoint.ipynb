{
 "cells": [
  {
   "cell_type": "code",
   "execution_count": null,
   "id": "9acf0bd9",
   "metadata": {},
   "outputs": [
    {
     "name": "stdout",
     "output_type": "stream",
     "text": [
      " * Serving Flask app \"__main__\" (lazy loading)\n",
      " * Environment: production\n",
      "\u001b[31m   WARNING: This is a development server. Do not use it in a production deployment.\u001b[0m\n",
      "\u001b[2m   Use a production WSGI server instead.\u001b[0m\n",
      " * Debug mode: off\n"
     ]
    },
    {
     "name": "stderr",
     "output_type": "stream",
     "text": [
      " * Running on http://127.0.0.1:5000/ (Press CTRL+C to quit)\n",
      "127.0.0.1 - - [11/Nov/2023 12:18:40] \"GET / HTTP/1.1\" 200 -\n",
      "127.0.0.1 - - [11/Nov/2023 12:18:40] \"GET /styles.css HTTP/1.1\" 404 -\n",
      "127.0.0.1 - - [11/Nov/2023 12:18:40] \"GET /script.js HTTP/1.1\" 404 -\n",
      "127.0.0.1 - - [11/Nov/2023 12:18:40] \"GET / HTTP/1.1\" 200 -\n"
     ]
    }
   ],
   "source": [
    "from flask import Flask, request, send_file, jsonify\n",
    "import tkinter as tk\n",
    "from PIL import Image,ImageTk\n",
    "\n",
    "\n",
    "app = Flask(__name__)\n",
    "\n",
    "@app.route('/')\n",
    "def index():\n",
    "    return open('index.html').read()\n",
    "\n",
    "@app.route('/upload', methods=['POST'])\n",
    "def upload():\n",
    "    if 'image' not in request.files:\n",
    "        return 'No image file uploaded'\n",
    "\n",
    "    image_file = request.files['image']\n",
    "    if image_file.filename == '':\n",
    "        return 'No selected image file'\n",
    "\n",
    "    # Process and save the uploaded image\n",
    "    # e.g., save to a specific folder, write to a file, etc.\n",
    "    image_path = 'uploaded_image.jpg'\n",
    "    image_file.save(image_path)\n",
    "\n",
    "    # Get the URL of the uploaded image\n",
    "    image_url = request.host_url + 'image/' + image_path\n",
    "\n",
    "    return display_image()\n",
    "\n",
    "def display_image():\n",
    "    root = tk.Tk()\n",
    "    root.title(\"Label Image\")\n",
    "    \n",
    "    # the actual path to the image\n",
    "    image_path = \"C:\\\\Users\\\\Acer\\\\Desktop\\\\New folder\\\\project\\\\uploaded_image.jpg\"  \n",
    "    image = Image.open(image_path)\n",
    "    resized_img = image.resize((800,600))\n",
    "    photo = ImageTk.PhotoImage(resized_img)\n",
    "\n",
    "    label = tk.Label(root, image=photo)\n",
    "    label.pack()\n",
    "\n",
    "    root.mainloop()\n",
    "\n",
    "    return index()\n",
    "\n",
    "\n",
    "\n",
    "if __name__ == '__main__':\n",
    "    app.run()"
   ]
  },
  {
   "cell_type": "code",
   "execution_count": null,
   "id": "43eb8643",
   "metadata": {},
   "outputs": [],
   "source": []
  },
  {
   "cell_type": "code",
   "execution_count": null,
   "id": "6a8b2620",
   "metadata": {},
   "outputs": [],
   "source": []
  }
 ],
 "metadata": {
  "kernelspec": {
   "display_name": "Python 3 (ipykernel)",
   "language": "python",
   "name": "python3"
  },
  "language_info": {
   "codemirror_mode": {
    "name": "ipython",
    "version": 3
   },
   "file_extension": ".py",
   "mimetype": "text/x-python",
   "name": "python",
   "nbconvert_exporter": "python",
   "pygments_lexer": "ipython3",
   "version": "3.9.7"
  }
 },
 "nbformat": 4,
 "nbformat_minor": 5
}
