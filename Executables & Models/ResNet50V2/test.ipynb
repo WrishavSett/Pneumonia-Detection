{
 "cells": [
  {
   "cell_type": "code",
   "execution_count": 1,
   "metadata": {},
   "outputs": [],
   "source": [
    "from keras.models import load_model\n",
    "\n",
    "# Load the trained model\n",
    "model = load_model('pneumonia_model.h5')"
   ]
  },
  {
   "cell_type": "code",
   "execution_count": 2,
   "metadata": {},
   "outputs": [],
   "source": [
    "import cv2\n",
    "import numpy as np\n",
    "\n",
    "# Load and preprocess the image\n",
    "def load_and_preprocess_image(image_path):\n",
    "    img = cv2.imread(image_path)\n",
    "    img = cv2.resize(img, (220, 220), interpolation=cv2.INTER_AREA)\n",
    "    img = img / 255.0  # Normalize the image\n",
    "    img = np.expand_dims(img, axis=0)  # Add batch dimension\n",
    "    return img"
   ]
  },
  {
   "cell_type": "code",
   "execution_count": 3,
   "metadata": {},
   "outputs": [],
   "source": [
    "# Make predictions\n",
    "def predict_pneumonia(image_path):\n",
    "    img = load_and_preprocess_image(image_path)\n",
    "    prediction = model.predict(img)\n",
    "    return prediction[0, 0]  # The prediction is a probability\n",
    "\n",
    "# Define a function to interpret the prediction\n",
    "def interpret_prediction(prediction):\n",
    "    if prediction > 0.5:\n",
    "        return \"PNEUMONIA\"\n",
    "    else:\n",
    "        return \"NORMAL\""
   ]
  },
  {
   "cell_type": "code",
   "execution_count": 7,
   "metadata": {},
   "outputs": [
    {
     "name": "stdout",
     "output_type": "stream",
     "text": [
      "1/1 [==============================] - 0s 447ms/step\n",
      "The image is classified as: NORMAL\n"
     ]
    }
   ],
   "source": [
    "image_path = 'val\\\\NORMAL\\\\NORMAL2-IM-1427-0001.jpeg'  # Replace with the path to your image\n",
    "prediction = predict_pneumonia(image_path)\n",
    "result = interpret_prediction(prediction)\n",
    "\n",
    "print(f\"The image is classified as: {result}\")"
   ]
  },
  {
   "cell_type": "code",
   "execution_count": 8,
   "metadata": {},
   "outputs": [
    {
     "name": "stdout",
     "output_type": "stream",
     "text": [
      "1/1 [==============================] - 0s 249ms/step\n",
      "The image is classified as: PNEUMONIA\n"
     ]
    }
   ],
   "source": [
    "image_path = 'val\\PNEUMONIA\\\\person1952_bacteria_4883.jpeg'  # Replace with the path to your image\n",
    "prediction = predict_pneumonia(image_path)\n",
    "result = interpret_prediction(prediction)\n",
    "\n",
    "print(f\"The image is classified as: {result}\")"
   ]
  },
  {
   "cell_type": "code",
   "execution_count": null,
   "metadata": {},
   "outputs": [],
   "source": []
  }
 ],
 "metadata": {
  "kernelspec": {
   "display_name": "Python 3",
   "language": "python",
   "name": "python3"
  },
  "language_info": {
   "codemirror_mode": {
    "name": "ipython",
    "version": 3
   },
   "file_extension": ".py",
   "mimetype": "text/x-python",
   "name": "python",
   "nbconvert_exporter": "python",
   "pygments_lexer": "ipython3",
   "version": "3.11.4"
  }
 },
 "nbformat": 4,
 "nbformat_minor": 2
}
