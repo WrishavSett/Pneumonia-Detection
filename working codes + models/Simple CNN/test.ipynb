{
 "cells": [
  {
   "cell_type": "code",
   "execution_count": 1,
   "metadata": {},
   "outputs": [],
   "source": [
    "import tensorflow as tf\n",
    "from keras.models import load_model\n",
    "# Load the saved model\n",
    "loaded_model = tf.keras.models.load_model('pneumonia_model.h5')"
   ]
  },
  {
   "cell_type": "code",
   "execution_count": 2,
   "metadata": {},
   "outputs": [
    {
     "name": "stdout",
     "output_type": "stream",
     "text": [
      "1/1 [==============================] - 0s 268ms/step\n",
      "[[0.0079265]]\n",
      "The person is healthy.\n"
     ]
    }
   ],
   "source": [
    "from tensorflow.keras.preprocessing import image\n",
    "import numpy as np\n",
    "\n",
    "# Load the image for prediction (replace 'path_to_image.jpg' with the actual image file path)\n",
    "img_path = 'val/NORMAL/NORMAL2-IM-1442-0001.jpeg'\n",
    "img = image.load_img(img_path, target_size=(128, 128))\n",
    "img = image.img_to_array(img)\n",
    "img = np.expand_dims(img, axis=0)\n",
    "img /= 255.0  # Rescale the image just like during training\n",
    "\n",
    "# Make predictions using the loaded model\n",
    "predictions = loaded_model.predict(img)\n",
    "print(predictions)\n",
    "\n",
    "# Assuming that predictions[0] will be the probability of having pneumonia\n",
    "# You can set a threshold to determine if the person has pneumonia or not\n",
    "threshold = 0.5  # You can adjust the threshold as needed\n",
    "\n",
    "if predictions[0] > threshold:\n",
    "    print(\"The person has pneumonia.\")\n",
    "else:\n",
    "    print(\"The person is healthy.\")"
   ]
  },
  {
   "cell_type": "code",
   "execution_count": 3,
   "metadata": {},
   "outputs": [
    {
     "name": "stdout",
     "output_type": "stream",
     "text": [
      "1/1 [==============================] - 0s 40ms/step\n",
      "[[0.9164723]]\n",
      "The person has pneumonia.\n"
     ]
    }
   ],
   "source": [
    "from tensorflow.keras.preprocessing import image\n",
    "import numpy as np\n",
    "\n",
    "# Load the image for prediction (replace 'path_to_image.jpg' with the actual image file path)\n",
    "img_path = 'val/PNEUMONIA/person1954_bacteria_4886.jpeg'\n",
    "img = image.load_img(img_path, target_size=(128, 128))\n",
    "img = image.img_to_array(img)\n",
    "img = np.expand_dims(img, axis=0)\n",
    "img /= 255.0  # Rescale the image just like during training\n",
    "\n",
    "# Make predictions using the loaded model\n",
    "predictions = loaded_model.predict(img)\n",
    "print(predictions)\n",
    "\n",
    "# Assuming that predictions[0] will be the probability of having pneumonia\n",
    "# You can set a threshold to determine if the person has pneumonia or not\n",
    "threshold = 0.5  # You can adjust the threshold as needed\n",
    "\n",
    "if predictions[0] > threshold:\n",
    "    print(\"The person has pneumonia.\")\n",
    "else:\n",
    "    print(\"The person is healthy.\")"
   ]
  },
  {
   "cell_type": "code",
   "execution_count": null,
   "metadata": {},
   "outputs": [],
   "source": []
  }
 ],
 "metadata": {
  "kernelspec": {
   "display_name": "Python 3",
   "language": "python",
   "name": "python3"
  },
  "language_info": {
   "codemirror_mode": {
    "name": "ipython",
    "version": 3
   },
   "file_extension": ".py",
   "mimetype": "text/x-python",
   "name": "python",
   "nbconvert_exporter": "python",
   "pygments_lexer": "ipython3",
   "version": "3.11.2"
  }
 },
 "nbformat": 4,
 "nbformat_minor": 2
}
